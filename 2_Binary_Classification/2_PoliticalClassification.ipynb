{
 "cells": [
  {
   "cell_type": "code",
   "execution_count": null,
   "id": "d0187381",
   "metadata": {},
   "outputs": [],
   "source": [
    "import pandas as pd\n",
    "import re\n",
    "from ast import literal_eval\n",
    "\n",
    "df=# load your data\n",
    "df.unigrams = df.unigrams.apply(literal_eval)\n",
    "df.bigrams = df.bigrams.apply(literal_eval)"
   ]
  },
  {
   "cell_type": "code",
   "execution_count": null,
   "id": "0d20d367",
   "metadata": {},
   "outputs": [],
   "source": [
    "import numpy as np\n",
    "import torch\n",
    "from transformers import AutoTokenizer, AutoModel \n",
    "tokenizer = AutoTokenizer.from_pretrained(\"DeepPavlov/distilrubert-tiny-cased-conversational-v1\", model_max_length=512)\n",
    "model = AutoModel.from_pretrained(\"DeepPavlov/distilrubert-tiny-cased-conversational-v1\", num_labels=2)"
   ]
  },
  {
   "cell_type": "code",
   "execution_count": 47,
   "id": "a19d1c8f",
   "metadata": {},
   "outputs": [],
   "source": [
    "def embed_bert_cls(text, model, tokenizer):\n",
    "    t = tokenizer(text, padding=True, truncation=True, return_tensors='pt')\n",
    "    with torch.no_grad():\n",
    "        model_output = model(**{k: v.to(model.device) for k, v in t.items()})\n",
    "    embeddings = model_output.last_hidden_state[:, 0, :]\n",
    "    embeddings = torch.nn.functional.normalize(embeddings)\n",
    "    return embeddings[0].cpu().numpy()"
   ]
  },
  {
   "cell_type": "code",
   "execution_count": null,
   "id": "c3333722",
   "metadata": {},
   "outputs": [],
   "source": [
    "import emoji\n",
    "import re\n",
    "\n",
    "def remove_punctuation(text):\n",
    "    return re.sub(r\"[,.;@#?!&$]+\\ *\", \" \", text)\n",
    "\n",
    "def emoji_to_text(text):\n",
    "    emojied_text=emoji.demojize(text)\n",
    "    return emojied_text.replace(\":\", \" \")\n",
    "\n",
    "#---\n",
    "\n",
    "def pre_process_text(text):\n",
    "    \n",
    "    text=emoji_to_text(text)\n",
    "    text = remove_punctuation(text.lower())\n",
    "    text_=re.sub(\"\\[.*?\\]\", \"\", text)\n",
    "    return \" \".join(text_.split())"
   ]
  },
  {
   "cell_type": "code",
   "execution_count": 49,
   "id": "6879fc26",
   "metadata": {},
   "outputs": [],
   "source": [
    "df = df.fillna('')\n",
    "data_cleaned=list((df['text']).apply(pre_process_text))"
   ]
  },
  {
   "cell_type": "code",
   "execution_count": null,
   "id": "9d2c0f76",
   "metadata": {},
   "outputs": [],
   "source": [
    "import torch\n",
    "\n",
    "#%%time\n",
    "from tqdm.notebook import tqdm\n",
    "emb_list = list()\n",
    "it = 0\n",
    "for s in tqdm(data_cleaned):\n",
    "    emb_list.append(embed_bert_cls(s, model, tokenizer))"
   ]
  },
  {
   "cell_type": "code",
   "execution_count": null,
   "id": "d7712e04",
   "metadata": {},
   "outputs": [],
   "source": [
    "# SAVE embeddings\n",
    "file_name=#file to save emb\n",
    "np.save(file_name, emb_list)"
   ]
  },
  {
   "cell_type": "code",
   "execution_count": null,
   "id": "1386e9f9",
   "metadata": {},
   "outputs": [],
   "source": [
    "import joblib\n",
    "\n",
    "# Load model to predict political posts:\n",
    "# (The model was trained on a sample that was first labeled based on a list of political words (see file '../dictionaries/political-key-words.txt'), \n",
    "# then the data was manually checked for false positives and false negatives. \n",
    "# Then, based on distilrubert-tiny-cased-conversational-v1 embeddings, SVM model was built.)\n",
    "\n",
    "file_name='../models/SVC_for_political_classification.pkl'\n",
    "loaded_model = joblib.load(file_name)"
   ]
  },
  {
   "cell_type": "code",
   "execution_count": null,
   "id": "97c06195",
   "metadata": {},
   "outputs": [],
   "source": [
    "# Predict \n",
    "y_predict = (loaded_model.predict_proba(emb_list)[:,1] >= 0.4).astype(int)\n",
    "df['If_political']=y_predict"
   ]
  },
  {
   "cell_type": "code",
   "execution_count": null,
   "id": "24b6999d",
   "metadata": {},
   "outputs": [],
   "source": [
    "df['If_political'].value_counts()"
   ]
  },
  {
   "cell_type": "code",
   "execution_count": null,
   "id": "e75fb8b1",
   "metadata": {},
   "outputs": [],
   "source": [
    "#save df"
   ]
  }
 ],
 "metadata": {
  "kernelspec": {
   "display_name": "Python 3 (ipykernel)",
   "language": "python",
   "name": "python3"
  },
  "language_info": {
   "codemirror_mode": {
    "name": "ipython",
    "version": 3
   },
   "file_extension": ".py",
   "mimetype": "text/x-python",
   "name": "python",
   "nbconvert_exporter": "python",
   "pygments_lexer": "ipython3",
   "version": "3.8.13"
  }
 },
 "nbformat": 4,
 "nbformat_minor": 5
}
