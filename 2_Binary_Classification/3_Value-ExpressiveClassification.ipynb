{
 "cells": [
  {
   "cell_type": "code",
   "execution_count": null,
   "id": "b0d7924b",
   "metadata": {},
   "outputs": [],
   "source": []
  },
  {
   "cell_type": "code",
   "execution_count": null,
   "id": "c3522406",
   "metadata": {},
   "outputs": [],
   "source": [
    "import pandas as pd\n",
    "import numpy as np\n",
    "import json\n",
    "import os\n",
    "import joblib\n",
    "import torch\n",
    "from tqdm.notebook import tqdm\n",
    "from transformers import BertModel\n",
    "from transformers import BertTokenizer\n"
   ]
  },
  {
   "cell_type": "code",
   "execution_count": null,
   "id": "8497c159",
   "metadata": {},
   "outputs": [],
   "source": [
    "df=# load your data"
   ]
  },
  {
   "cell_type": "code",
   "execution_count": null,
   "id": "fe85c5c2",
   "metadata": {},
   "outputs": [],
   "source": [
    "# Load fine-tuned rubert-tiny2 model to obtain new embeddings:\n",
    "rc_path='../models/fine-tuned_rubert-tiny2/v2_8_1536_1.2/'\n",
    "\n",
    "model = BertModel.from_pretrained(rc_path)\n",
    "tokenizer = BertTokenizer.from_pretrained(rc_path)\n",
    "model_emb = model.base_model\n",
    "\n",
    "# Get embeddings for new data based on fine-tuned model\n",
    "\n",
    "def embed_bert_cls(text, model, tokenizer):\n",
    "    t = tokenizer(text, padding=True, truncation=True, return_tensors='pt')\n",
    "    with torch.no_grad():\n",
    "        model_output = model(**{k: v.to(model.device) for k, v in t.items()})\n",
    "    embeddings = model_output.last_hidden_state[:, 0, :]\n",
    "    embeddings = torch.nn.functional.normalize(embeddings)\n",
    "    return embeddings[0].cpu().numpy()"
   ]
  },
  {
   "cell_type": "code",
   "execution_count": null,
   "id": "82fe03cc",
   "metadata": {},
   "outputs": [],
   "source": [
    "#%%time\n",
    "from tqdm.notebook import tqdm\n",
    "emb_list = list()\n",
    "it = 0\n",
    "for s in tqdm(df['text']):\n",
    "    emb_list.append(embed_bert_cls(s, model_emb, tokenizer))"
   ]
  },
  {
   "cell_type": "code",
   "execution_count": null,
   "id": "0b6a4563",
   "metadata": {},
   "outputs": [],
   "source": [
    "# SAVE embeddings\n",
    "file_name=#file to save emb\n",
    "np.save(file_name, emb_list)"
   ]
  },
  {
   "cell_type": "code",
   "execution_count": null,
   "id": "1a89c0b5",
   "metadata": {},
   "outputs": [],
   "source": [
    "# Load SVM model to predict if the posts are value-expressive (1/0):\n",
    "filename_SVM='../models/fine-tuned_rubert-tiny2/SVC_for_binary_classification_pre-trained_rubert-tiny2_based.pkl'   \n",
    "loaded_model = joblib.load(filename_SVM)"
   ]
  },
  {
   "cell_type": "code",
   "execution_count": null,
   "id": "b1c42c09",
   "metadata": {},
   "outputs": [],
   "source": [
    "#predict\n",
    "y_predict=loaded_model.predict_proba(emb_list)\n",
    "df['if_value']=(y_predict[:,1] >= 0.42).astype(int)"
   ]
  },
  {
   "cell_type": "code",
   "execution_count": null,
   "id": "ae7e0fb8",
   "metadata": {},
   "outputs": [],
   "source": [
    "# for further analysis we need posts that are value-expressive and/or politically-oriented\n",
    "df['if_political_OR_if_value'] = np.where((df['If_political'] == 1)|(df['if_value'] == 1),1, 0)\n",
    "df['if_political_OR_if_value'].value_counts()"
   ]
  },
  {
   "cell_type": "code",
   "execution_count": null,
   "id": "75875544",
   "metadata": {},
   "outputs": [],
   "source": [
    "#save df"
   ]
  }
 ],
 "metadata": {
  "kernelspec": {
   "display_name": "Python 3 (ipykernel)",
   "language": "python",
   "name": "python3"
  },
  "language_info": {
   "codemirror_mode": {
    "name": "ipython",
    "version": 3
   },
   "file_extension": ".py",
   "mimetype": "text/x-python",
   "name": "python",
   "nbconvert_exporter": "python",
   "pygments_lexer": "ipython3",
   "version": "3.8.13"
  }
 },
 "nbformat": 4,
 "nbformat_minor": 5
}
